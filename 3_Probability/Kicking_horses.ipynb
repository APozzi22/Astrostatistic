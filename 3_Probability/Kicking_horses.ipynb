{
 "cells": [
  {
   "cell_type": "markdown",
   "metadata": {},
   "source": [
    "A famous early application of low-number statistics was an analysis of Prussian cavalryman horse-kick deaths by Bortkiewicz in 1898.\n",
    "\n",
    "He studied the distribution of 122 men kicked to death by horses among 10 Prussian army corps within 20 years (so a total number of corpes of 200). He recorded the number of corps with a given number of deaths:\n",
    "\n",
    "Number of deaths\tNumber of groups\n",
    "        0\t                109\n",
    "        1\t                65\n",
    "        2\t                22\n",
    "        3\t                3\n",
    "        4\t                1\n",
    "Plot the resulting probability distribution. Careful with the normalization\n",
    "How does it look like? Again try to fit it by hand."
   ]
  },
  {
   "cell_type": "code",
   "execution_count": null,
   "metadata": {},
   "outputs": [],
   "source": []
  }
 ],
 "metadata": {
  "language_info": {
   "name": "python"
  }
 },
 "nbformat": 4,
 "nbformat_minor": 2
}
