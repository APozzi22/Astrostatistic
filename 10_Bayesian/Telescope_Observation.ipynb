{
 "cells": [
  {
   "cell_type": "markdown",
   "id": "6173c54c",
   "metadata": {},
   "source": []
  }
 ],
 "metadata": {
  "language_info": {
   "name": "python"
  }
 },
 "nbformat": 4,
 "nbformat_minor": 5
}
