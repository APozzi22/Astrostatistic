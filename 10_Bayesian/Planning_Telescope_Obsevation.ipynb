{
 "cells": [
  {
   "cell_type": "markdown",
   "id": "24da388f",
   "metadata": {},
   "source": [
    "You are a real astronomer (not a theory guy like me) and are planning an expensive observational campaign. You want to know how likely it is that tomorrow night will be clear given the weather tonight (clear or cloudy). The key piece of information here is that the weather tomorrow depends on the weather today. From past history, you know that:\n",
    "\n",
    "$p(clear \\ tomorrow| \\ cloudy \\ today) = 0.5$\n",
    "\n",
    "which means that $p(cloudy \\ today| \\ cloudy \\ tomorrow) = 0.5$\n",
    "\n",
    "We also have $p(cloudy \\ tomorrow| \\ clear \\ today) = 0.1$\n",
    "\n",
    "which means that $p(clear \\ tomorrow| \\ clear \\ today) = 0.5$\n",
    "\n",
    "- We can start with the sky conditions today and make predictions going forward more and more into the future.\n",
    "- This will look like a big decision tree.\n",
    "- After enough days, we'll reach equilibrium probabilities that have to do with the mean weather statistics (ignoring seasons) and we'll arrive at $p(clear) = 0.83$ and $p(cloudy) = 0.17$.\n",
    "\n",
    "You get the same answer for day $N$ as day $N + 1$ and it doesn't matter whether it was clear or cloudy on the day that you started. The steps that we have taken in this process are, indeed, a MARKOV CHAIN."
   ]
  },
  {
   "cell_type": "markdown",
   "id": "049327dc",
   "metadata": {},
   "source": [
    "**Tasks**:\n",
    "- Start off on a cloud day.\n",
    "- Implement your weather forecast based on the above probabilities\n",
    "- Run your simulator for N days (with $N > 10^4$)\n",
    "- Prepare a plot with the number of days on the x axis and the cumulative fraction of, say, sunny days over the number of days so far on the y axis. This is called a trace-plot, showing how our estimate of $p(clear)$ evolves as the chain samples.\n",
    "- Prepare a histogram of the above plot. This reveals the distribution of $p(clear)$ .\n",
    "- Use a summary statistics to determine the most likely value and an error on our estimate.\n",
    "\n",
    "**Important**:\n",
    "- In MCMC the process must be stationary which basically means that the chain statistics look the same no matter which chunk you look at, e.g. first half, second half, or every other point, etc.\n",
    "- Obviously that isn't going to be the case in the early steps of the chain. In our example above, after some time the process was stationary, but not in the first few days.\n",
    "- So, there is a burn-in phase that needs to be discarded. How one determines the number of early steps to discard as burn-in is tricky, but you should always start with a traceplot of your samples!\n",
    "\n",
    "**Tasks**\n",
    "- In the above example, experiment with chopping off different numbers of initial points as burn-in."
   ]
  },
  {
   "cell_type": "code",
   "execution_count": 55,
   "id": "2f8aa91c",
   "metadata": {},
   "outputs": [],
   "source": [
    "import numpy as np\n",
    "import matplotlib.pyplot as plt"
   ]
  },
  {
   "cell_type": "code",
   "execution_count": 82,
   "id": "1c8418d8",
   "metadata": {},
   "outputs": [],
   "source": [
    "def prevision(x, today, p_cloudy_from_cloudy, p_cloudy_from_clear):\n",
    "    if today == 0: #today cloudy\n",
    "        if x < p_cloudy_from_cloudy:\n",
    "            return 0\n",
    "        else: \n",
    "            return 1\n",
    "    if today == 1: #today clear\n",
    "        if x < p_cloudy_from_clear:\n",
    "            return 0\n",
    "        else: \n",
    "            return 1"
   ]
  },
  {
   "cell_type": "code",
   "execution_count": 60,
   "id": "48cef08d",
   "metadata": {},
   "outputs": [],
   "source": [
    "# Define probality\n",
    "p_cloudy = 0.17\n",
    "p_clear = 0.83\n",
    "\n",
    "p_clear_from_cloudy = 0.5\n",
    "p_cloudy_from_cloudy = 0.5\n",
    "p_cloudy_from_clear = 0.1\n",
    "p_clear_from_clear = 0.9\n",
    "\n",
    "cloudy = 0\n",
    "clear = 1\n",
    "\n",
    "# Number of iterations\n",
    "N = int(1e4)"
   ]
  },
  {
   "cell_type": "code",
   "execution_count": 81,
   "id": "794facda",
   "metadata": {},
   "outputs": [
    {
     "name": "stdout",
     "output_type": "stream",
     "text": [
      "Cloudy day: 1666\n",
      "Clear day: 8335\n",
      "Probability of cloudy day: 0.167\n",
      "Probability of clear day: 0.833\n"
     ]
    }
   ],
   "source": [
    "# Define starting condition\n",
    "today = cloudy\n",
    "\n",
    "# Inizialize the Markov Chain\n",
    "T = []\n",
    "T.append(today)\n",
    "\n",
    "for i in range(1, N+1):\n",
    "    #print(i, T[i-1])\n",
    "    x = np.random.uniform(0, 1)\n",
    "    #print(x)\n",
    "    tomorrow = prevision(x, T[i-1], p_cloudy_from_cloudy, p_cloudy_from_clear)\n",
    "    #print(tomorrow)\n",
    "    T.append(tomorrow)\n",
    "    #print(T)\n",
    "\n",
    "print(\"Cloudy day: \" + str(T.count(0)))\n",
    "print(\"Clear day: \" + str(T.count(1)))\n",
    "\n",
    "print(f\"Probability of cloudy day: {T.count(0) / len(T):.3f}\" )\n",
    "print(f\"Probability of clear day: {T.count(1) / len(T):.3f}\")"
   ]
  }
 ],
 "metadata": {
  "kernelspec": {
   "display_name": "Python 3",
   "language": "python",
   "name": "python3"
  },
  "language_info": {
   "codemirror_mode": {
    "name": "ipython",
    "version": 3
   },
   "file_extension": ".py",
   "mimetype": "text/x-python",
   "name": "python",
   "nbconvert_exporter": "python",
   "pygments_lexer": "ipython3",
   "version": "3.10.12"
  }
 },
 "nbformat": 4,
 "nbformat_minor": 5
}
