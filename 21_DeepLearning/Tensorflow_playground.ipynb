{
 "cells": [
  {
   "cell_type": "markdown",
   "id": "246e54c7",
   "metadata": {},
   "source": [
    "# The Tensorflow playground."
   ]
  },
  {
   "cell_type": "markdown",
   "id": "ef781347",
   "metadata": {},
   "source": []
  }
 ],
 "metadata": {
  "language_info": {
   "name": "python"
  }
 },
 "nbformat": 4,
 "nbformat_minor": 5
}
