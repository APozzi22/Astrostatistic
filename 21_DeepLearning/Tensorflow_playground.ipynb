{
 "cells": [
  {
   "cell_type": "markdown",
   "id": "246e54c7",
   "metadata": {},
   "source": [
    "# The Tensorflow playground."
   ]
  },
  {
   "cell_type": "markdown",
   "id": "ef781347",
   "metadata": {},
   "source": [
    "Today we'll play with the TensorFlow playground. We'll see it next time, but Tensorflow is one of the main open-source deep learning libraries.\n",
    "\n",
    "The playground provides some datasets and let you see what's going on during the training process in a nice, intuitive way."
   ]
  },
  {
   "cell_type": "markdown",
   "id": "f7f2cbb8",
   "metadata": {},
   "source": [
    "- We have a function $f(x_1, x_2)$ that returns +1 (blue) or -1 (organge).\n",
    "- We are given a dataset and split it into training and testing.\n",
    "- Hit play, and the network starts training.\n",
    "- The thickness of the line tells you how much that synapis contributes to the training.\n",
    "- You can monitor progress on the top-right.\n",
    "- The goal of the game is to minimize the loss function on the test set (I don't care about the loss function on the training set!).\n",
    "- You can change everything but the type of problem, the test/train ratio, and the noise level.\n",
    "- So feel free to play with activation function, number of layers, number of neuron per layers, learning rate, regularization, incoming features (data augmentation), etc."
   ]
  },
  {
   "cell_type": "markdown",
   "id": "a40d7c32",
   "metadata": {},
   "source": [
    "1. Let's start from this dataset. Try to get the lowest score on the test set. Take a screenshot or we won't believe you! Let's draw a leaderboard.\n",
    "\n",
    "2. Then move on to this dataset, which is more challenging."
   ]
  },
  {
   "cell_type": "markdown",
   "id": "7802f861",
   "metadata": {},
   "source": []
  }
 ],
 "metadata": {
  "language_info": {
   "name": "python"
  }
 },
 "nbformat": 4,
 "nbformat_minor": 5
}
