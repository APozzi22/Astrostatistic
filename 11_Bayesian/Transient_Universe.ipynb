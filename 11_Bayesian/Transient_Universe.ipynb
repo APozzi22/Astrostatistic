{
 "cells": [
  {
   "cell_type": "markdown",
   "id": "f69e48b4",
   "metadata": {},
   "source": []
  }
 ],
 "metadata": {
  "language_info": {
   "name": "python"
  }
 },
 "nbformat": 4,
 "nbformat_minor": 5
}
