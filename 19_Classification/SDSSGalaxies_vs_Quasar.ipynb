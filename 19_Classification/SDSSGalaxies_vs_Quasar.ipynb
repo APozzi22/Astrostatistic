{
 "cells": [
  {
   "cell_type": "markdown",
   "id": "8a95640b",
   "metadata": {},
   "source": [
    "# SDSS Galaxies vs quasars"
   ]
  },
  {
   "cell_type": "markdown",
   "id": "f7086ed3",
   "metadata": {},
   "source": [
    "We're now going to classify galaxy vs quasars in the Sloan Digital Sky Survey."
   ]
  },
  {
   "cell_type": "markdown",
   "id": "a54eaaae",
   "metadata": {},
   "source": [
    "**Data** \n",
    "\n",
    "The dataset is at solutions/galaxyquasar.csv. I have extracted it myself from the SDSS database using the SQL query reported here"
   ]
  },
  {
   "cell_type": "markdown",
   "id": "998230ad",
   "metadata": {},
   "source": [
    "## Tasks"
   ]
  },
  {
   "cell_type": "markdown",
   "id": "0864cccd",
   "metadata": {},
   "source": [
    "- Create arrays for the $(u - g)$, $(g - r)$, $(r - i)$, and $(i - z)$ colors. Also create an array with the class labels where galaxy = 0 and quasar = 1.\n",
    "- Classify the dataset against the target label.\n",
    "- Try some of the classification methods we've seen so far and evaluate the performance using the ROC curve.\n",
    "- Remember to split the dataset into training and validation..."
   ]
  },
  {
   "cell_type": "markdown",
   "id": "f24c24cc",
   "metadata": {},
   "source": [
    "## Ideas"
   ]
  },
  {
   "cell_type": "markdown",
   "id": "a01e8bb4",
   "metadata": {},
   "source": [
    "- Try using different colors (a subset of them first, than all together). Which is the most important feature?\n",
    "- What are the colors that better satisfy or invalidate the \"Naive\" assumption of independence between the attributes?"
   ]
  },
  {
   "cell_type": "code",
   "execution_count": null,
   "id": "6bf6adcb",
   "metadata": {},
   "outputs": [],
   "source": []
  }
 ],
 "metadata": {
  "language_info": {
   "name": "python"
  }
 },
 "nbformat": 4,
 "nbformat_minor": 5
}
