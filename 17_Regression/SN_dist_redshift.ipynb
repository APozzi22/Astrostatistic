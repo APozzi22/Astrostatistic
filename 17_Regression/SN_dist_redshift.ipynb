{
 "cells": [
  {
   "cell_type": "markdown",
   "id": "44f9f637",
   "metadata": {},
   "source": [
    "# Supernova distances and redshifts (part 1)"
   ]
  },
  {
   "cell_type": "markdown",
   "id": "62947d2b",
   "metadata": {},
   "source": [
    "Measuring the cosmological relationship between distance and redshift is at the heart of the entire field of cosmology and allowed, among other things, the discovery of dark energy! At high redshifts, this is done with Type Ia Supernova which are standard (or better, standardizable) candles."
   ]
  },
  {
   "cell_type": "markdown",
   "id": "9fb616e9",
   "metadata": {},
   "source": []
  }
 ],
 "metadata": {
  "kernelspec": {
   "display_name": "Python 3",
   "language": "python",
   "name": "python3"
  },
  "language_info": {
   "name": "python",
   "version": "3.10.12"
  }
 },
 "nbformat": 4,
 "nbformat_minor": 5
}
