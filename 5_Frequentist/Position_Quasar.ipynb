{
 "cells": [
  {
   "cell_type": "markdown",
   "metadata": {},
   "source": [
    "You measure the position of a quasar N times with the same telescope i.e. errors are homoscedastic. Let's say the underlying process is Gaussian, the true position is $\\mu = 1$ (in suitable units), and the erorrs are $\\sigma = 0.2$\n",
    "\n",
    "Part 1\n",
    "- Generate fake measurements. Treat each of these observations as an estimate of the true distribution. So we'll center a Gaussian (with the known $\\sigma$) at each point. This is the probability of each data point, \n",
    "$p(x_i | \\mu, \\sigma)$.\n",
    "- Plot each of the individual likelihoods separately. Also plot their product (i.e. the likelihood of the dataset \n",
    "). Make sure the x grid has enough points.\n",
    "- Just read off the maximum likelihood solution (e.g. using np.argsort)\n",
    "- Compare it with the MLE estimator derived above\n",
    "\n",
    "Part 2\n",
    "Check the Fisher matrix error estimate makes sense:\n",
    "- do a rough $2^{nd}$ order differentation of our log-likelihood function with np.diff,\n",
    "- divide through by our $\\Delta \\theta^2$ to get the correct normalization,\n",
    "- multiply by -1,\n",
    "- then take the square root.\n",
    "- Compare with the Fisher matrix error derived above\n",
    "- Plot a Gaussian at the measured $\\mu$ with this error as the scale to see if it matches the numerical likelihood distribution. (The normalization won't be captured, you can rescale it as you like to check it agrees)\n",
    "\n",
    "Part 3\n",
    "Let's make our model more realistic. Our N measurements were taken in different nights, where the sky behaved differently (i.e. errors are heteoscedastic). Let's assume that each measurment has a $\\sigma_i$ that is normally distributed with mean 0.2 and standard deviation 0.5\n",
    "\n",
    "Generalize your code from above to this case"
   ]
  }
 ],
 "metadata": {
  "language_info": {
   "name": "python"
  }
 },
 "nbformat": 4,
 "nbformat_minor": 2
}
